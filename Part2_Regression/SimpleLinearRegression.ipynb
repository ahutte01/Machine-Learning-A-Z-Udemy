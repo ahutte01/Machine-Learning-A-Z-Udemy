{
 "cells": [
  {
   "cell_type": "code",
   "execution_count": 1,
   "metadata": {
    "collapsed": true
   },
   "outputs": [],
   "source": [
    "# Simple Linear Regression\n",
    "# January 20th, 2019 \n",
    "# Section 4\n",
    "\n",
    "# Importing the libraries \n",
    "import numpy as np # included for mathematical operations\n",
    "import matplotlib.pyplot as plt # plot nice charts in Python \n",
    "import pandas as pd # import datasets and manage datasets \n",
    "import os # Use this for folder and file manipulation\n",
    "\n",
    "# Importing the dataset \n",
    "# set a folder as the working directory \n",
    "os.chdir('/Users/amandahutter/Documents/PythonCode/Udemy/MachineLearningA-Z/Part 2 - Regression/Section 4 - Simple Linear Regression') \n",
    "# Import dataset \n",
    "dataset = pd.read_csv('Salary_Data.csv')\n",
    "\n",
    "# Segment dependent variables into a matrix of features \n",
    "X = dataset.iloc[:, :-1].values # take all the rows, take all columns except the final one \n",
    "# X is a matrix\n",
    "\n",
    "# Segment independent variable into a vector, this is the predicted values \n",
    "Y = dataset.iloc[:, 1].values\n",
    "# Y is an array \n",
    "\n",
    "# Splitting the data between Training Set + Test Set \n",
    "from sklearn.model_selection import train_test_split\n",
    "X_Train, X_Test, Y_Train, Y_Test = train_test_split(X, Y, test_size = 1/3, random_state = 0)\n"
   ]
  },
  {
   "cell_type": "code",
   "execution_count": 2,
   "metadata": {},
   "outputs": [
    {
     "name": "stdout",
     "output_type": "stream",
     "text": [
      "(20, 1)\n",
      "(20,)\n",
      "(10, 1)\n",
      "(10,)\n"
     ]
    }
   ],
   "source": [
    "print(X_Train.shape) # Matrix\n",
    "print(Y_Train.shape) # Vector \n",
    "print(X_Test.shape) # Matrix\n",
    "print(Y_Test.shape) # Vector "
   ]
  },
  {
   "cell_type": "code",
   "execution_count": 3,
   "metadata": {},
   "outputs": [
    {
     "data": {
      "text/plain": [
       "LinearRegression(copy_X=True, fit_intercept=True, n_jobs=1, normalize=False)"
      ]
     },
     "execution_count": 3,
     "metadata": {},
     "output_type": "execute_result"
    }
   ],
   "source": [
    "# Fitting Simple Linear Regression to Dataset Training data \n",
    "from sklearn.linear_model import LinearRegression \n",
    "regressor = LinearRegression() # Make an object of this class\n",
    "regressor.fit(X_Train, Y_Train) # This fits the regressor to our training data. Make this machine learn on salary + experience "
   ]
  },
  {
   "cell_type": "code",
   "execution_count": 4,
   "metadata": {},
   "outputs": [
    {
     "name": "stdout",
     "output_type": "stream",
     "text": [
      "The predicted salaries are: \n",
      " [  40835.10590871  123079.39940819   65134.55626083   63265.36777221\n",
      "  115602.64545369  108125.8914992   116537.23969801   64199.96201652\n",
      "   76349.68719258  100649.1375447 ]\n",
      "The real salaries are: \n",
      " [  37731.  122391.   57081.   63218.  116969.  109431.  112635.   55794.\n",
      "   83088.  101302.]\n"
     ]
    }
   ],
   "source": [
    "# Predicting the Test Set of Results \n",
    "Y_Pred = regressor.predict(X_Test)\n",
    "print(f'The predicted salaries are: \\n {Y_Pred}')\n",
    "print(f'The real salaries are: \\n {Y_Test}') "
   ]
  },
  {
   "cell_type": "code",
   "execution_count": 5,
   "metadata": {},
   "outputs": [
    {
     "data": {
      "image/png": "[encoded data removed]",
      "text/plain": [
       "<matplotlib.figure.Figure at 0x1a20fee278>"
      ]
     },
     "metadata": {},
     "output_type": "display_data"
    }
   ],
   "source": [
    "# Visualizing the Training results \n",
    "plt.scatter(X_Train, Y_Train, color = 'red') # the real results \n",
    "plt.plot(X_Train, regressor.predict(X_Train), color = 'blue') # the predicted results for train Y\n",
    "plt.title('Salary vs Experience (Training Set)')\n",
    "plt.xlabel('Years of Experience')\n",
    "plt.ylabel('Salary')\n",
    "plt.show()\n"
   ]
  },
  {
   "cell_type": "code",
   "execution_count": 6,
   "metadata": {},
   "outputs": [
    {
     "data": {
      "image/png": "[encoded data removed]",
      "text/plain": [
       "<matplotlib.figure.Figure at 0x1a21038f98>"
      ]
     },
     "metadata": {},
     "output_type": "display_data"
    }
   ],
   "source": [
    "# Visualizing the Test results \n",
    "plt.scatter(X_Test, Y_Test, color = 'red') # the real results \n",
    "# do NOT replace X_Train, our regressor is already trained on this!! \n",
    "plt.plot(X_Train, regressor.predict(X_Train), color = 'blue') # the predicted results for train Y\n",
    "plt.title('Salary vs Experience (Testing Set)')\n",
    "plt.xlabel('Years of Experience')\n",
    "plt.ylabel('Salary')\n",
    "plt.show()\n"
   ]
  },
  {
   "cell_type": "code",
   "execution_count": 7,
   "metadata": {
    "collapsed": true
   },
   "outputs": [],
   "source": [
    "# The Blue regression line is the same line, the red points are new\n",
    "# Red points are now from the TEST set \n"
   ]
  }
 ],
 "metadata": {
  "kernelspec": {
   "display_name": "Python 3",
   "language": "python",
   "name": "python3"
  },
  "language_info": {
   "codemirror_mode": {
    "name": "ipython",
    "version": 3
   },
   "file_extension": ".py",
   "mimetype": "text/x-python",
   "name": "python",
   "nbconvert_exporter": "python",
   "pygments_lexer": "ipython3",
   "version": "3.6.7"
  }
 },
 "nbformat": 4,
 "nbformat_minor": 2
}
