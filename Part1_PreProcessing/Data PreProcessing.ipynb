{
 "cells": [
  {
   "cell_type": "markdown",
   "metadata": {},
   "source": [
    "# Data Preprocessing "
   ]
  },
  {
   "cell_type": "code",
   "execution_count": 2,
   "metadata": {
    "collapsed": true
   },
   "outputs": [],
   "source": [
    "# Data Preprocessing \n",
    "# January 18th, 2019 \n",
    "# Section 2, lecture 12 \n",
    "\n",
    "# Importing the libraries \n",
    "import numpy as np # included for mathematical operations\n",
    "import matplotlib.pyplot as plt # plot nice charts in Python \n",
    "import pandas as pd # import datasets and manage datasets \n",
    "import os # Use this for folder and file manipulation\n",
    "\n",
    "# Importing the dataset \n",
    "# set a folder as the working directory \n",
    "os.chdir('/Users/amandahutter/Documents/PythonCode/Udemy/MachineLearningA-Z/Part 1 - Data Preprocessing/Section 2 -------------------- Part 1 - Data Preprocessing --------------------') \n",
    "# Import dataset \n",
    "dataset = pd.read_csv('Data.csv')"
   ]
  },
  {
   "cell_type": "code",
   "execution_count": 3,
   "metadata": {
    "collapsed": true
   },
   "outputs": [],
   "source": [
    "# Segment dependent variables into a matrix of features \n",
    "X = dataset.iloc[:, :-1].values # take all the rows, take all columns except the final one \n",
    "\n",
    "# Segment independent variable into a vector, this is the predicted values \n",
    "Y = dataset.iloc[:, 3].values\n"
   ]
  },
  {
   "cell_type": "code",
   "execution_count": 4,
   "metadata": {},
   "outputs": [
    {
     "data": {
      "text/plain": [
       "array([['France', 44.0, 72000.0],\n",
       "       ['Spain', 27.0, 48000.0],\n",
       "       ['Germany', 30.0, 54000.0],\n",
       "       ['Spain', 38.0, 61000.0],\n",
       "       ['Germany', 40.0, 63777.77777777778],\n",
       "       ['France', 35.0, 58000.0],\n",
       "       ['Spain', 38.77777777777778, 52000.0],\n",
       "       ['France', 48.0, 79000.0],\n",
       "       ['Germany', 50.0, 83000.0],\n",
       "       ['France', 37.0, 67000.0]], dtype=object)"
      ]
     },
     "execution_count": 4,
     "metadata": {},
     "output_type": "execute_result"
    }
   ],
   "source": [
    "# Prepare the data - deal with missing values \n",
    "#np.set_printoptions(threshold = np.nan)\n",
    "\n",
    "# Take care of Missing Data \n",
    "from sklearn.preprocessing import Imputer \n",
    "imputer = Imputer(missing_values = 'NaN', strategy = 'mean', axis = 0) # axis = 0 for COLUMN average \n",
    "imputer = imputer.fit(X[:, 1:3] ) # Upper bound is not included for column [] \n",
    "X[:, 1:3] = imputer.transform( X[:, 1:3])\n",
    "X"
   ]
  },
  {
   "cell_type": "code",
   "execution_count": 5,
   "metadata": {
    "collapsed": true
   },
   "outputs": [],
   "source": [
    "# Encoding Categorical Data \n",
    "from sklearn.preprocessing import LabelEncoder, OneHotEncoder \n",
    "\n",
    "# LabelEncoder changes categorical items to 0 and 1\n",
    "# Returns array of encoded labels \n",
    "labelencoder_X = LabelEncoder() # create an object of class LabelEncoder() \n",
    "X[:, 0] = labelencoder_X.fit_transform( X[:, 0])\n",
    "\n",
    "# OneHotEncoder is good for nonnumerical data that does not have an ordered hierarchy \n",
    "onehotencoder = OneHotEncoder(categorical_features = [0]) # create an object, encode column 0  \n",
    "X = onehotencoder.fit_transform(X).toarray()\n",
    "\n",
    "# Encode the dependent variables as Numerical values \n",
    "labelencoder_Y = LabelEncoder() # make an object of this class for prediction vector \n",
    "Y = labelencoder_Y.fit_transform(Y)"
   ]
  },
  {
   "cell_type": "code",
   "execution_count": 6,
   "metadata": {},
   "outputs": [
    {
     "name": "stdout",
     "output_type": "stream",
     "text": [
      "(8, 5)\n",
      "(2, 5)\n",
      "(8,)\n",
      "(2,)\n"
     ]
    }
   ],
   "source": [
    "# Splitting the data between Training Set + Test Set \n",
    "from sklearn.model_selection import train_test_split\n",
    "X_Train, X_Test, Y_Train, Y_Test = train_test_split(X, Y, test_size = 0.2, random_state = 0)\n",
    "print(X_Train.shape)\n",
    "print(X_Test.shape)\n",
    "print(Y_Train.shape)\n",
    "print(Y_Test.shape)"
   ]
  },
  {
   "cell_type": "code",
   "execution_count": 7,
   "metadata": {},
   "outputs": [
    {
     "data": {
      "text/plain": [
       "array([[-1.        ,  2.64575131, -0.77459667,  0.26306757,  0.12381479],\n",
       "       [ 1.        , -0.37796447, -0.77459667, -0.25350148,  0.46175632],\n",
       "       [-1.        , -0.37796447,  1.29099445, -1.97539832, -1.53093341],\n",
       "       [-1.        , -0.37796447,  1.29099445,  0.05261351, -1.11141978],\n",
       "       [ 1.        , -0.37796447, -0.77459667,  1.64058505,  1.7202972 ],\n",
       "       [-1.        , -0.37796447,  1.29099445, -0.0813118 , -0.16751412],\n",
       "       [ 1.        , -0.37796447, -0.77459667,  0.95182631,  0.98614835],\n",
       "       [ 1.        , -0.37796447, -0.77459667, -0.59788085, -0.48214934]])"
      ]
     },
     "execution_count": 7,
     "metadata": {},
     "output_type": "execute_result"
    }
   ],
   "source": [
    "# Feature Scaling for Machine Learning \n",
    "# What is feature scaling, why do we need to do it? \n",
    "# Want to give the same range for all numerical variables, to help Euclidean distances matter for all variables \n",
    "# If one feature has a magnitude of variance larger than other features, it will dominate in the algorithsm\n",
    "from sklearn.preprocessing import StandardScaler \n",
    "sc_X = StandardScaler()\n",
    "X_Train = sc_X.fit_transform(X_Train) # Fit to data, then transform it \n",
    "X_Test = sc_X.transform(X_Test)    # Perform standardizing by centering and scaling \n",
    "\n",
    "X_Train\n",
    "# Dependent variables does NOT need feature scaling in this problem, will be needed in regression"
   ]
  },
  {
   "cell_type": "code",
   "execution_count": 8,
   "metadata": {
    "collapsed": true
   },
   "outputs": [],
   "source": [
    "# Data Preprocessing Template\n",
    "# Import Libraries, Import Dataset, Split Data into Test + Train, Scaling features \n",
    "\n"
   ]
  }
 ],
 "metadata": {
  "kernelspec": {
   "display_name": "Python 3",
   "language": "python",
   "name": "python3"
  },
  "language_info": {
   "codemirror_mode": {
    "name": "ipython",
    "version": 3
   },
   "file_extension": ".py",
   "mimetype": "text/x-python",
   "name": "python",
   "nbconvert_exporter": "python",
   "pygments_lexer": "ipython3",
   "version": "3.6.7"
  }
 },
 "nbformat": 4,
 "nbformat_minor": 2
}
